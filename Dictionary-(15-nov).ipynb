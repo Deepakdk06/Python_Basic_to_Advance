{
 "cells": [
  {
   "cell_type": "code",
   "execution_count": 1,
   "id": "e86ba2d6",
   "metadata": {},
   "outputs": [
    {
     "name": "stdout",
     "output_type": "stream",
     "text": [
      "22\n"
     ]
    }
   ],
   "source": [
    "#python-17/18\n",
    "\n",
    "x={\"name\":\"deepak\",\"age\":22,\"address\":\"azamgarh\"}\n",
    "print(x['age'])   "
   ]
  },
  {
   "cell_type": "code",
   "execution_count": 26,
   "id": "91610940",
   "metadata": {},
   "outputs": [
    {
     "name": "stdout",
     "output_type": "stream",
     "text": [
      "deepak\n"
     ]
    }
   ],
   "source": [
    "x={\"name\":[\"deepak\",\"pravin\",\"pawan\"],\"salary\":[22,25,35]}\n",
    "print(x['name'][0])"
   ]
  },
  {
   "cell_type": "code",
   "execution_count": 52,
   "id": "a4f168bf",
   "metadata": {},
   "outputs": [
    {
     "name": "stdout",
     "output_type": "stream",
     "text": [
      "['deepak', 'pravin', 'rahul', 'dinesh', 15000, 25000, 35000, 50000]\n"
     ]
    }
   ],
   "source": [
    "x={\"empname\":[\"deepak\",\"pravin\",\"rahul\",\"dinesh\"],\"salary\":[15000,25000,35000,50000]}\n",
    "#print(x)\n",
    "j=x['empname']\n",
    "y=x['salary']\n",
    "z=j+y\n",
    "print(z)"
   ]
  },
  {
   "cell_type": "code",
   "execution_count": 65,
   "id": "87236ed8",
   "metadata": {},
   "outputs": [
    {
     "name": "stdout",
     "output_type": "stream",
     "text": [
      "dinesh\n",
      "50000\n"
     ]
    }
   ],
   "source": [
    "x={\"empname\":[\"deepak\",\"pravin\",\"rahul\",\"dinesh\"],\"salary\":[15000,25000,35000,50000]}\n",
    "i=x['empname']\n",
    "print(i[3])\n",
    "j=x['salary']\n",
    "print(j[3])\n"
   ]
  },
  {
   "cell_type": "code",
   "execution_count": 71,
   "id": "bdf3f680",
   "metadata": {},
   "outputs": [
    {
     "name": "stdout",
     "output_type": "stream",
     "text": [
      "[15000, 25000, 35000, 50000]\n",
      "125000\n"
     ]
    }
   ],
   "source": [
    "#write a python program to add the salary\n",
    "x={\"empname\":[\"deepak\",\"pravin\",\"rahul\",\"dinesh\"],\"salary\":[15000,25000,35000,50000]}\n",
    "y=x[\"salary\"]\n",
    "print(y)\n",
    "sum=0\n",
    "for i in y:\n",
    "    sum=sum+i\n",
    "print(sum)"
   ]
  },
  {
   "cell_type": "code",
   "execution_count": 85,
   "id": "e0040cb2",
   "metadata": {},
   "outputs": [
    {
     "name": "stdout",
     "output_type": "stream",
     "text": [
      "Number of key: 3\n",
      "{'name': 'Deepak', 'age': 22, 'salary': 50000, 'salar': 55000}\n",
      "{'name': 'Deepak', 'age': 22, 'salary': 50000, 'salar': 55000, 'department': 'computer science'}\n",
      "{'name': 'Deepak', 'age': 22, 'salar': 55000, 'department': 'computer science'}\n"
     ]
    }
   ],
   "source": [
    "#Operation on dict\n",
    "#note :- here only will count key like (name,age,salary)  in the dict\n",
    "x={\"name\":\"Deepak\",\"age\":22,\"salary\":50000}\n",
    "print(\"Number of key:\",len(x))\n",
    "\n",
    "#update value\n",
    "\n",
    "x[\"salar\"]=55000\n",
    "print(x)\n",
    "\n",
    "#adding key with value:\n",
    "\n",
    "x[\"department\"]=\"computer science\"\n",
    "print(x)\n",
    "\n",
    "#deleting key from dict\n",
    "\n",
    "del x[\"salary\"]\n",
    "print(x)"
   ]
  },
  {
   "cell_type": "code",
   "execution_count": 4,
   "id": "15384a6e",
   "metadata": {},
   "outputs": [
    {
     "name": "stdout",
     "output_type": "stream",
     "text": [
      "     Name  Age\n",
      "0  Deepak   22\n",
      "1  Pravin   25\n",
      "2   Mohit   23\n"
     ]
    }
   ],
   "source": [
    "x={\"Name\":[\"Deepak\",\"Pravin\",\"Mohit\"],\"Age\":[22,25,23]}\n",
    "import pandas as pd\n",
    "y=pd.DataFrame(x)\n",
    "print(y)"
   ]
  },
  {
   "cell_type": "code",
   "execution_count": 93,
   "id": "a595d071",
   "metadata": {},
   "outputs": [
    {
     "data": {
      "text/plain": [
       "False"
      ]
     },
     "execution_count": 93,
     "metadata": {},
     "output_type": "execute_result"
    }
   ],
   "source": [
    "#to check any value is in the list or not\n",
    "v=[5,4,8,9,10]\n",
    "10 in v\n",
    "y=['deepak', 'pravin', 'rahul', 'dinesh']\n",
    "\"deep\" in y"
   ]
  },
  {
   "cell_type": "code",
   "execution_count": 94,
   "id": "18fbcf8f",
   "metadata": {},
   "outputs": [
    {
     "name": "stdout",
     "output_type": "stream",
     "text": [
      "{'name': 'Deepak', 'salary': 25000, 'age': 22}\n"
     ]
    }
   ],
   "source": [
    "# duplicate key should not be allowed in the dict will store last one only\n",
    "x={\"name\":\"Deepak\",\"salary\":25000,\"age\":25,\"age\":20,\"age\":35,\"age\":22}\n",
    "print(x)"
   ]
  },
  {
   "cell_type": "code",
   "execution_count": 98,
   "id": "2e6286eb",
   "metadata": {},
   "outputs": [
    {
     "name": "stdout",
     "output_type": "stream",
     "text": [
      "{}\n"
     ]
    }
   ],
   "source": [
    "#clear whole data from the dict\n",
    "x={\"name\":[\"deepak\",\"pravin\"],\"age\":[19,25,]}\n",
    "x.clear()\n",
    "print(x)"
   ]
  },
  {
   "cell_type": "code",
   "execution_count": 99,
   "id": "a9421367",
   "metadata": {},
   "outputs": [
    {
     "name": "stdout",
     "output_type": "stream",
     "text": [
      "{'name': 'deepak', 'age': 22, 'salary': 25000}\n"
     ]
    }
   ],
   "source": [
    "#copy all data from x to y\n",
    "x={\"name\":\"deepak\",\"age\":22,\"salary\":25000}\n",
    "y=x.copy()\n",
    "print(y)"
   ]
  },
  {
   "cell_type": "code",
   "execution_count": 5,
   "id": "3f6ec593",
   "metadata": {},
   "outputs": [
    {
     "data": {
      "text/plain": [
       "15"
      ]
     },
     "execution_count": 5,
     "metadata": {},
     "output_type": "execute_result"
    }
   ],
   "source": [
    "#get(x,5) return value of key x. if x not found return 5\n",
    "x={\"name\":[\"deepak\",\"pravin\"],\"age\":[19,25,]}\n",
    "x.get(\"name\",\"not found\")\n",
    "x.get(\"salary\",15)"
   ]
  },
  {
   "cell_type": "code",
   "execution_count": 116,
   "id": "732895f4",
   "metadata": {},
   "outputs": [
    {
     "name": "stdout",
     "output_type": "stream",
     "text": [
      "25\n"
     ]
    }
   ],
   "source": [
    "#write  a python program that will return age of the employee. if user provide name and if this name is not in the data set it will return emp not exist\n",
    "x={\"name\":[\"deepak\",\"pravin\"],\"age\":[22,25]}\n",
    "x1=\"pravin\"\n",
    "k=0\n",
    "for i in x[\"name\"]:\n",
    "    if(i==x1):\n",
    "        print(x[\"age\"][k])\n",
    "    else:\n",
    "        k=k+1\n",
    "if(k==len(x[\"name\"])):\n",
    "    print(\"This Emp is not here\")"
   ]
  },
  {
   "cell_type": "code",
   "execution_count": 2,
   "id": "d8a24383",
   "metadata": {},
   "outputs": [
    {
     "data": {
      "text/plain": [
       "dict_items([('name', ['deepak', 'Praveen']), ('age', [22, 23])])"
      ]
     },
     "execution_count": 2,
     "metadata": {},
     "output_type": "execute_result"
    }
   ],
   "source": [
    "#To check the item in the dict\n",
    "x={\"name\":[\"deepak\",\"Praveen\"],\"age\":[22,23]}\n",
    "x.items()"
   ]
  },
  {
   "cell_type": "code",
   "execution_count": 5,
   "id": "b5eb508d",
   "metadata": {},
   "outputs": [
    {
     "data": {
      "text/plain": [
       "dict_keys(['name', 'age'])"
      ]
     },
     "execution_count": 5,
     "metadata": {},
     "output_type": "execute_result"
    }
   ],
   "source": [
    "#To check the how many keys like (name,age) in the dict\n",
    "x={\"name\":\"Deepak\",\"age\":23}\n",
    "x.keys()"
   ]
  },
  {
   "cell_type": "code",
   "execution_count": 7,
   "id": "02235188",
   "metadata": {},
   "outputs": [
    {
     "data": {
      "text/plain": [
       "dict_values(['Deepak', 23])"
      ]
     },
     "execution_count": 7,
     "metadata": {},
     "output_type": "execute_result"
    }
   ],
   "source": [
    "#To check the how many values like (Deepak,23) in the dict\n",
    "x={\"name\":\"Deepak\",\"age\":23}\n",
    "x.values()"
   ]
  },
  {
   "cell_type": "code",
   "execution_count": 16,
   "id": "6a20f003",
   "metadata": {},
   "outputs": [
    {
     "name": "stdout",
     "output_type": "stream",
     "text": [
      "{'name': 'Deepak', 'age': 23}\n",
      "{'id': 10, 'Sal': 1000, 'name': 'Deepak', 'age': 23}\n"
     ]
    }
   ],
   "source": [
    "#to add the data from x to y\n",
    "x={\"name\":\"Deepak\",\"age\":23}\n",
    "print(x)\n",
    "y={\"id\":10,\"Sal\":1000}\n",
    "y.update(x)\n",
    "print(y)"
   ]
  },
  {
   "cell_type": "code",
   "execution_count": 18,
   "id": "4914f8e4",
   "metadata": {},
   "outputs": [
    {
     "name": "stdout",
     "output_type": "stream",
     "text": [
      "{'name': 'Deepak', 'age': 22}\n",
      "{'name': 'Deepak'}\n"
     ]
    }
   ],
   "source": [
    "#it is use like get() but it delete the key from the dict if found keys.\n",
    "x={\"name\":\"Deepak\",\"age\":22}\n",
    "print(x)\n",
    "x.pop(\"age\",\"not\")\n",
    "print(x)"
   ]
  },
  {
   "cell_type": "code",
   "execution_count": 30,
   "id": "c82b17ef",
   "metadata": {},
   "outputs": [
    {
     "name": "stdout",
     "output_type": "stream",
     "text": [
      "{'name': 'Deepak', 'age': 22}\n",
      "{'name': 'Deepak', 'age': 22, 'salary': 25000}\n"
     ]
    }
   ],
   "source": [
    "#if key is not exist in the dict then i will add the given keys in the dict. if found the give value\n",
    "x={\"name\":\"Deepak\",\"age\":22}\n",
    "x.setdefault(\"name\",\"not exist\")\n",
    "x.setdefault(\"salary\",25000)\n",
    "print(x)"
   ]
  },
  {
   "cell_type": "code",
   "execution_count": 66,
   "id": "3bf2d4ea",
   "metadata": {},
   "outputs": [
    {
     "name": "stdout",
     "output_type": "stream",
     "text": [
      "enter keys:deepak\n",
      "enter values:22\n",
      "enter 1 if u want more data else enter any number1\n",
      "{'deepak': 22}\n",
      "enter keys:pravin\n",
      "enter values:23\n",
      "enter 1 if u want more data else enter any number5\n",
      "{'deepak': 22, 'pravin': 23}\n"
     ]
    }
   ],
   "source": [
    "#write a program make dictionary from user\n",
    "x={}\n",
    "n=1\n",
    "while(n==1):\n",
    "    print(\"enter keys:\",end=\"\")\n",
    "    k=input()\n",
    "    print(\"enter values:\",end=\"\")\n",
    "    v=int(input())\n",
    "    x.update({k:v})\n",
    "    print(\"enter 1 if u want more data else enter any number\",end=\"\")\n",
    "    n=int(input())\n",
    "    print(x)\n"
   ]
  },
  {
   "cell_type": "code",
   "execution_count": null,
   "id": "75e1bd21",
   "metadata": {},
   "outputs": [],
   "source": [
    "Player:Sachin,Kohli,Sehwag,\n",
    "Runs:100,200,300\n",
    "Create a dict with thise name as key runs as value:\n",
    "after that anyone search with players return runs ,,,,or return not found"
   ]
  },
  {
   "cell_type": "code",
   "execution_count": 51,
   "id": "92b4b524",
   "metadata": {},
   "outputs": [
    {
     "name": "stdout",
     "output_type": "stream",
     "text": [
      "{'Deepak': [22, 25], 'pravin': [21, 55], 'mohit': [29, 40], 'brijesh': [24, 49], 'girish': [42, 33], 'rahul': [32, 89]}\n",
      "[22, 25]\n",
      "[21, 55]\n",
      "[29, 40]\n",
      "[24, 49]\n",
      "[42, 33]\n",
      "[32, 89]\n"
     ]
    }
   ],
   "source": [
    "#for loop with dictionaries\n",
    "data={\"Deepak\":[22,25],\"pravin\":[21,55],\"mohit\":[29,40],\"brijesh\":[24,49],\"girish\":[42,33],\"rahul\":[32,89]}\n",
    "print(data)\n",
    "for i in data:\n",
    "    print(data.get(i,\"not available\"))"
   ]
  },
  {
   "cell_type": "code",
   "execution_count": 52,
   "id": "beef398c",
   "metadata": {},
   "outputs": [
    {
     "name": "stdout",
     "output_type": "stream",
     "text": [
      "r\n",
      "g\n",
      "b\n",
      "w\n"
     ]
    }
   ],
   "source": [
    "#while using for loop with dict so it take only deys from the dict.\n",
    "colors={'r':\"Red\",'g':\"green\",'b':\"blue\",'w':\"white\"}\n",
    "for i in colors:\n",
    "    print(i)"
   ]
  },
  {
   "cell_type": "code",
   "execution_count": 57,
   "id": "e2b338f0",
   "metadata": {},
   "outputs": [
    {
     "name": "stdout",
     "output_type": "stream",
     "text": [
      "Red\n",
      "green\n",
      "blue\n",
      "white\n"
     ]
    }
   ],
   "source": [
    "colors={'r':\"Red\",'g':\"green\",'b':\"blue\",'w':\"white\"}\n",
    "for i in colors:\n",
    "    print(colors[i])"
   ]
  },
  {
   "cell_type": "code",
   "execution_count": 62,
   "id": "249e0e63",
   "metadata": {},
   "outputs": [
    {
     "name": "stdout",
     "output_type": "stream",
     "text": [
      "key= r value= Red\n",
      "key= g value= green\n",
      "key= b value= blue\n",
      "key= w value= white\n"
     ]
    }
   ],
   "source": [
    "#write a program to print key and thier values.\n",
    "colors={'r':\"Red\",'g':\"green\",'b':\"blue\",'w':\"white\"}\n",
    "x=[]\n",
    "y=[]\n",
    "for i,j in colors.items():\n",
    "    x.append(i)\n",
    "    y.append(j)\n",
    "for i,j in colors.items():\n",
    "    print(\"key= {} value= {}\".format(i,j))    "
   ]
  },
  {
   "cell_type": "code",
   "execution_count": 64,
   "id": "0ae85f8a",
   "metadata": {},
   "outputs": [
    {
     "name": "stdout",
     "output_type": "stream",
     "text": [
      "{1: 'UP', 2: 'Bihar', 3: 'Delhi', 4: 'Noida'}\n"
     ]
    }
   ],
   "source": [
    "#Convertin list into the dictionary\n",
    "x=[1,2,3,4]\n",
    "y=[\"UP\",\"Bihar\",\"Delhi\",\"Noida\"]\n",
    "z=zip(x,y)\n",
    "d=dict(z)\n",
    "print(d)"
   ]
  },
  {
   "cell_type": "code",
   "execution_count": null,
   "id": "f259d550",
   "metadata": {},
   "outputs": [],
   "source": []
  },
  {
   "cell_type": "code",
   "execution_count": null,
   "id": "7b4091a6",
   "metadata": {},
   "outputs": [],
   "source": []
  },
  {
   "cell_type": "code",
   "execution_count": 65,
   "id": "999a0e12",
   "metadata": {},
   "outputs": [
    {
     "name": "stdout",
     "output_type": "stream",
     "text": [
      "key = r value = Red\n",
      "key = g value = green\n",
      "key = b value = blue\n",
      "key = w value = white\n"
     ]
    }
   ],
   "source": [
    "colors={'r':\"Red\",'g':\"green\",'b':\"blue\",'w':\"white\"}\n",
    "x=[]\n",
    "y=[]\n",
    "for i,j in colors.items():\n",
    "    x.append(i)\n",
    "    y.append(j)\n",
    "    print(\"key =\",i,\"value =\",j)"
   ]
  }
 ],
 "metadata": {
  "kernelspec": {
   "display_name": "Python 3",
   "language": "python",
   "name": "python3"
  },
  "language_info": {
   "codemirror_mode": {
    "name": "ipython",
    "version": 3
   },
   "file_extension": ".py",
   "mimetype": "text/x-python",
   "name": "python",
   "nbconvert_exporter": "python",
   "pygments_lexer": "ipython3",
   "version": "3.8.8"
  }
 },
 "nbformat": 4,
 "nbformat_minor": 5
}
