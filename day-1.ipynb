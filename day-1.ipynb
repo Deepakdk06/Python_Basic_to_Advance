{
 "cells": [
  {
   "cell_type": "code",
   "execution_count": 2,
   "id": "919090c7",
   "metadata": {},
   "outputs": [
    {
     "name": "stdout",
     "output_type": "stream",
     "text": [
      "fail\n"
     ]
    }
   ],
   "source": [
    "n=65\n",
    "if (n>=90 and n<=100):\n",
    "    print(\"first division\")\n",
    "elif(n>=80 and n<=89):\n",
    "    print(\"second division\")\n",
    "elif(n>=70 and n<=79):\n",
    "    print(\"third divison\")\n",
    "else:\n",
    "    print(\"fail\")"
   ]
  },
  {
   "cell_type": "code",
   "execution_count": 52,
   "id": "53b84c0c",
   "metadata": {},
   "outputs": [
    {
     "name": "stdout",
     "output_type": "stream",
     "text": [
      "a is greter\n"
     ]
    }
   ],
   "source": [
    "a=50\n",
    "b=30\n",
    "if(a>b):\n",
    "    print(\"a is greter\")\n",
    "else:\n",
    "    print(\"b is greter\")"
   ]
  },
  {
   "cell_type": "code",
   "execution_count": 2,
   "id": "ba5be3b8",
   "metadata": {},
   "outputs": [
    {
     "name": "stdout",
     "output_type": "stream",
     "text": [
      "C is greter\n"
     ]
    }
   ],
   "source": [
    "a=100\n",
    "b=50\n",
    "c=105\n",
    "if(a>b and a>c):\n",
    "    print(\"A is greter\")\n",
    "elif(b>a and b>c):\n",
    "    print(\"B is greter\")\n",
    "else:\n",
    "    print(\"C is greter\")"
   ]
  },
  {
   "cell_type": "code",
   "execution_count": 60,
   "id": "a6d182ad",
   "metadata": {},
   "outputs": [
    {
     "name": "stdout",
     "output_type": "stream",
     "text": [
      "B is greter\n"
     ]
    }
   ],
   "source": [
    "a=10\n",
    "b=100\n",
    "c=30\n",
    "if(a>b):\n",
    "    print(\"A is greter\")\n",
    "elif(b>c):\n",
    "    print(\"B is greter\")\n",
    "else:\n",
    "    print(\"C is greter\")\n"
   ]
  },
  {
   "cell_type": "code",
   "execution_count": 76,
   "id": "d47fa2a2",
   "metadata": {},
   "outputs": [
    {
     "name": "stdout",
     "output_type": "stream",
     "text": [
      "D is greter\n"
     ]
    }
   ],
   "source": [
    "a=100\n",
    "b=2000\n",
    "c=500\n",
    "d=4000\n",
    "if(a>b and a>c and a>d):\n",
    "    print(\"A is greter\")\n",
    "elif(b>a and b>c and b>d):\n",
    "    print(\"B is greter\")\n",
    "elif(c>a and c>b and c>d):\n",
    "    print(\"C is greter\")\n",
    "elif(d>a and d>b and d>c):\n",
    "    print(\"D is greter\")"
   ]
  },
  {
   "cell_type": "code",
   "execution_count": 4,
   "id": "bd7cdb03",
   "metadata": {},
   "outputs": [
    {
     "name": "stdout",
     "output_type": "stream",
     "text": [
      "prime no\n"
     ]
    }
   ],
   "source": [
    "num=13\n",
    "\n",
    "if (num % 2) == 0:\n",
    "    print(\"not prime no\") \n",
    "else:\n",
    "    print(\"prime no\")\n",
    "    "
   ]
  },
  {
   "cell_type": "code",
   "execution_count": 5,
   "id": "b712ef8f",
   "metadata": {},
   "outputs": [
    {
     "name": "stdout",
     "output_type": "stream",
     "text": [
      "number is odd\n"
     ]
    }
   ],
   "source": [
    "\n",
    "num=13\n",
    "if (num % 2) == 0:\n",
    "    print(\"number is even\")\n",
    "else:\n",
    "    print(\"number is odd\")"
   ]
  },
  {
   "cell_type": "code",
   "execution_count": 18,
   "id": "11bedef0",
   "metadata": {},
   "outputs": [
    {
     "name": "stdout",
     "output_type": "stream",
     "text": [
      "1779426806528\n",
      "1779428636784\n",
      "140736706786928\n"
     ]
    }
   ],
   "source": [
    "x=\"dk\",123\n",
    "print(id(x))\n",
    "print(id(x[0]))\n",
    "print(id(x[1]))"
   ]
  },
  {
   "cell_type": "code",
   "execution_count": 22,
   "id": "a11560f2",
   "metadata": {},
   "outputs": [
    {
     "name": "stdout",
     "output_type": "stream",
     "text": [
      "dk\n",
      "123\n"
     ]
    }
   ],
   "source": [
    "print((x[0]))\n",
    "print((x[1]))"
   ]
  },
  {
   "cell_type": "code",
   "execution_count": 23,
   "id": "7ad22191",
   "metadata": {},
   "outputs": [
    {
     "name": "stdout",
     "output_type": "stream",
     "text": [
      "<class 'str'>\n",
      "<class 'int'>\n"
     ]
    }
   ],
   "source": [
    "print(type(x[0]))\n",
    "print(type(x[1]))"
   ]
  },
  {
   "cell_type": "code",
   "execution_count": null,
   "id": "d4370ce1",
   "metadata": {},
   "outputs": [],
   "source": []
  }
 ],
 "metadata": {
  "kernelspec": {
   "display_name": "Python 3",
   "language": "python",
   "name": "python3"
  },
  "language_info": {
   "codemirror_mode": {
    "name": "ipython",
    "version": 3
   },
   "file_extension": ".py",
   "mimetype": "text/x-python",
   "name": "python",
   "nbconvert_exporter": "python",
   "pygments_lexer": "ipython3",
   "version": "3.8.8"
  }
 },
 "nbformat": 4,
 "nbformat_minor": 5
}
