{
 "cells": [
  {
   "cell_type": "code",
   "execution_count": 16,
   "id": "13a4ab23",
   "metadata": {},
   "outputs": [
    {
     "name": "stdout",
     "output_type": "stream",
     "text": [
      "prime no. 2\n",
      "prime no. 3\n",
      "prime no. 4\n"
     ]
    }
   ],
   "source": [
    "x=5\n",
    "k=0\n",
    "for i in range(2,x):\n",
    "    if (x%i==0):\n",
    "        print(\"not a prime number\")\n",
    "        k=k+1\n",
    "        break\n",
    "    if(k==0):\n",
    "        print(\"prime no.\",i)"
   ]
  },
  {
   "cell_type": "code",
   "execution_count": 17,
   "id": "bae12e3f",
   "metadata": {},
   "outputs": [
    {
     "name": "stdout",
     "output_type": "stream",
     "text": [
      "0\n"
     ]
    }
   ],
   "source": [
    "print(k)"
   ]
  },
  {
   "cell_type": "code",
   "execution_count": 1,
   "id": "4f335cd2",
   "metadata": {},
   "outputs": [
    {
     "name": "stdout",
     "output_type": "stream",
     "text": [
      "# # # # \n",
      "# # # # \n",
      "# # # # \n",
      "# # # # \n"
     ]
    }
   ],
   "source": [
    "for i in range(4):\n",
    "    print(4*\"# \") "
   ]
  },
  {
   "cell_type": "code",
   "execution_count": 5,
   "id": "c54bdd6d",
   "metadata": {},
   "outputs": [
    {
     "name": "stdout",
     "output_type": "stream",
     "text": [
      "10 <class 'list'>\n"
     ]
    }
   ],
   "source": [
    "x=[10,'ws',5.5]\n",
    "x[2]=10\n",
    "print(x[0],type(x))"
   ]
  },
  {
   "cell_type": "code",
   "execution_count": 6,
   "id": "cec8b4cc",
   "metadata": {},
   "outputs": [
    {
     "name": "stdout",
     "output_type": "stream",
     "text": [
      "[2, 3, 4, 5, 10, 12, 100]\n"
     ]
    }
   ],
   "source": [
    "x=[2,3,4,5,10,12]\n",
    "x.append(100)\n",
    "print(x)"
   ]
  },
  {
   "cell_type": "code",
   "execution_count": 7,
   "id": "9ff12a81",
   "metadata": {},
   "outputs": [
    {
     "name": "stdout",
     "output_type": "stream",
     "text": [
      "[150, 2, 3, 4, 5, 10, 12]\n"
     ]
    }
   ],
   "source": [
    "x=[2,3,4,5,10,12]\n",
    "x.insert(0,150)\n",
    "print(x)"
   ]
  },
  {
   "cell_type": "code",
   "execution_count": 4,
   "id": "d0715a67",
   "metadata": {},
   "outputs": [
    {
     "name": "stdout",
     "output_type": "stream",
     "text": [
      "A is greter\n"
     ]
    }
   ],
   "source": [
    "a=2000\n",
    "b=1000\n",
    "c=500\n",
    "if(a>b):\n",
    "    if(a>c):\n",
    "        print(\"A is greter\")\n",
    "elif(b>c):\n",
    "    print(\"B is greater\")\n",
    "else:\n",
    "    print(\"C is greater\")"
   ]
  },
  {
   "cell_type": "code",
   "execution_count": 18,
   "id": "c2dda0fe",
   "metadata": {},
   "outputs": [
    {
     "name": "stdout",
     "output_type": "stream",
     "text": [
      "A is greater\n"
     ]
    }
   ],
   "source": [
    "a=2000\n",
    "b=100\n",
    "c=2500 \n",
    "if(a>b):\n",
    "    print(\"A is greater\")\n",
    "elif(b>c):\n",
    "    print(\"B is greater\")\n",
    "else:\n",
    "    print(\"C is greater\")"
   ]
  },
  {
   "cell_type": "code",
   "execution_count": 22,
   "id": "6cd57dbc",
   "metadata": {},
   "outputs": [
    {
     "name": "stdout",
     "output_type": "stream",
     "text": [
      "c is gratest\n"
     ]
    }
   ],
   "source": [
    "a=20000\n",
    "b=100000\n",
    "c=25000000\n",
    "d=12000\n",
    "if(a>b) and (a>c) and (a>d):\n",
    "    print(\"a is greatest\")\n",
    "elif(b>c and b>d):\n",
    "    print(\"b is greatest\")\n",
    "elif(c>d):\n",
    "    print(\"c is gratest\")\n",
    "else:\n",
    "    print(\"D is greatest\")\n",
    "    "
   ]
  },
  {
   "cell_type": "code",
   "execution_count": null,
   "id": "9f856b76",
   "metadata": {},
   "outputs": [],
   "source": []
  }
 ],
 "metadata": {
  "kernelspec": {
   "display_name": "Python 3",
   "language": "python",
   "name": "python3"
  },
  "language_info": {
   "codemirror_mode": {
    "name": "ipython",
    "version": 3
   },
   "file_extension": ".py",
   "mimetype": "text/x-python",
   "name": "python",
   "nbconvert_exporter": "python",
   "pygments_lexer": "ipython3",
   "version": "3.8.8"
  }
 },
 "nbformat": 4,
 "nbformat_minor": 5
}
