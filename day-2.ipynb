{
 "cells": [
  {
   "cell_type": "code",
   "execution_count": 112,
   "id": "0bab1aee",
   "metadata": {},
   "outputs": [
    {
     "name": "stdout",
     "output_type": "stream",
     "text": [
      "This is even number 4\n",
      "This is even number 20\n",
      "This is even number 32\n",
      "This is even number 64\n"
     ]
    }
   ],
   "source": [
    "x=[3,9,4,5,11,20,21,32,64]\n",
    "for i in x:\n",
    "    if(i%2==0):\n",
    "        print(\"This is even number\",i)"
   ]
  },
  {
   "cell_type": "code",
   "execution_count": 19,
   "id": "1cd133da",
   "metadata": {},
   "outputs": [
    {
     "name": "stdout",
     "output_type": "stream",
     "text": [
      "This is odd number 3\n",
      "This is odd number 9\n",
      "This is odd number 5\n",
      "This is odd number 11\n",
      "This is odd number 21\n"
     ]
    }
   ],
   "source": [
    "x=[3,9,4,5,11,20,21,32,64]\n",
    "for i in x:\n",
    "    if(i%2==1):\n",
    "        print(\"This is odd number\",i)"
   ]
  },
  {
   "cell_type": "code",
   "execution_count": 8,
   "id": "fcc0eb47",
   "metadata": {},
   "outputs": [
    {
     "name": "stdout",
     "output_type": "stream",
     "text": [
      "this is prime number\n"
     ]
    }
   ],
   "source": [
    "n=13\n",
    "if (n>1):\n",
    "    for i in range(2,n):\n",
    "        if(n%2==0):\n",
    "            print(\"this is not prime number\")\n",
    "    else:\n",
    "        print(\"this is prime number\")"
   ]
  },
  {
   "cell_type": "code",
   "execution_count": 113,
   "id": "962ed075",
   "metadata": {},
   "outputs": [
    {
     "name": "stdout",
     "output_type": "stream",
     "text": [
      "5\n",
      "5\n",
      "5\n"
     ]
    }
   ],
   "source": [
    "#k=0\n",
    "for i in range(3):\n",
    "    k=3\n",
    "    k=k+2\n",
    "    print(k)"
   ]
  },
  {
   "cell_type": "code",
   "execution_count": 32,
   "id": "e17fe3a0",
   "metadata": {},
   "outputs": [
    {
     "name": "stdout",
     "output_type": "stream",
     "text": [
      "2\n",
      "5\n",
      "9\n",
      "14\n",
      "24\n",
      "30\n",
      "42\n",
      "76\n",
      "114\n",
      "155\n"
     ]
    }
   ],
   "source": [
    "x=[2,3,4,5,10,6,12,34,38,41]\n",
    "sum=0\n",
    "for i in x:\n",
    "    sum=sum+i\n",
    "    print(sum)"
   ]
  },
  {
   "cell_type": "code",
   "execution_count": 33,
   "id": "600725c8",
   "metadata": {},
   "outputs": [
    {
     "name": "stdout",
     "output_type": "stream",
     "text": [
      "2\n",
      "5\n",
      "9\n",
      "14\n",
      "24\n",
      "30\n",
      "42\n",
      "76\n",
      "114\n",
      "155\n"
     ]
    }
   ],
   "source": [
    "x=[2,3,4,5,10,6,12,34,38,41]\n",
    "sum=0\n",
    "for i in x:\n",
    "    sum=sum+i\n",
    "    print(sum)"
   ]
  },
  {
   "cell_type": "code",
   "execution_count": 10,
   "id": "3ab69e14",
   "metadata": {},
   "outputs": [
    {
     "name": "stdout",
     "output_type": "stream",
     "text": [
      "odd no.\n"
     ]
    }
   ],
   "source": [
    "x=3\n",
    "if(x%2==0):\n",
    "    print(\"this is even no\")\n",
    "else:\n",
    "    print(\"odd no.\")"
   ]
  },
  {
   "cell_type": "code",
   "execution_count": null,
   "id": "f78a5fd9",
   "metadata": {},
   "outputs": [],
   "source": []
  },
  {
   "cell_type": "code",
   "execution_count": 1,
   "id": "1eba723b",
   "metadata": {},
   "outputs": [
    {
     "name": "stdout",
     "output_type": "stream",
     "text": [
      "sum of total: 0\n",
      "prime no  3\n",
      "sum of total: 3\n",
      "sum of total: 3\n",
      "prime no  5\n",
      "sum of total: 8\n",
      "sum of total: 8\n",
      "sum of total: 8\n",
      "sum of total: 8\n",
      "sum of total: 8\n",
      "sum of total: 8\n",
      "prime no  41\n",
      "sum of total: 49\n"
     ]
    }
   ],
   "source": [
    "x=[2,3,4,5,10,6,12,34,38,41]\n",
    "k=0\n",
    "for i in range(len(x)):\n",
    "    if(x[i]%2!=0):\n",
    "        print(\"prime no \",x[i])\n",
    "        k+=x[i]\n",
    "    print(\"sum of total:\",k)    "
   ]
  },
  {
   "cell_type": "code",
   "execution_count": 13,
   "id": "bd4e970b",
   "metadata": {},
   "outputs": [
    {
     "name": "stdout",
     "output_type": "stream",
     "text": [
      "486\n"
     ]
    }
   ],
   "source": [
    "sum=0\n",
    "x=[9,13,14,27,29,31,7,17,53,59,73,89,79,42]\n",
    "for i in x:\n",
    "    k=0\n",
    "    for j in range(2,i):\n",
    "        if(i%j==0):\n",
    "            k=k+1\n",
    "        break\n",
    "    if(k==0):\n",
    "        sum=sum+i\n",
    "print(sum)"
   ]
  },
  {
   "cell_type": "code",
   "execution_count": 18,
   "id": "5e98d1cc",
   "metadata": {},
   "outputs": [
    {
     "name": "stdout",
     "output_type": "stream",
     "text": [
      "438\n"
     ]
    }
   ],
   "source": [
    "x=[3,4,5,9,10,11,12,23,33,36,42,303]\n",
    "sum=0\n",
    "for i in x:\n",
    "    if(i%3==0):\n",
    "        sum=sum+i\n",
    "print(sum)        "
   ]
  },
  {
   "cell_type": "code",
   "execution_count": 2,
   "id": "8639343b",
   "metadata": {},
   "outputs": [
    {
     "name": "stdout",
     "output_type": "stream",
     "text": [
      "2534\n"
     ]
    }
   ],
   "source": [
    "x=[12,3,4,14,9,22,24,27,234,45,1200,1100]\n",
    "sum=0\n",
    "for i in x:\n",
    "    if(i>100):\n",
    "        sum=sum+i\n",
    "print(sum)        "
   ]
  },
  {
   "cell_type": "code",
   "execution_count": 7,
   "id": "99e419b5",
   "metadata": {},
   "outputs": [
    {
     "name": "stdout",
     "output_type": "stream",
     "text": [
      "54\n",
      "108\n",
      "162\n",
      "378\n",
      "270\n",
      "324\n",
      "378\n",
      "432\n",
      "486\n",
      "540\n"
     ]
    }
   ],
   "source": [
    "list=[1,2,3,7,5,6,7,8,9,10]\n",
    "num=54\n",
    "for i in list:\n",
    "    mul = num*i\n",
    "    print(mul)"
   ]
  },
  {
   "cell_type": "code",
   "execution_count": null,
   "id": "dcfc8223",
   "metadata": {},
   "outputs": [],
   "source": []
  },
  {
   "cell_type": "code",
   "execution_count": null,
   "id": "472a045d",
   "metadata": {},
   "outputs": [],
   "source": []
  },
  {
   "cell_type": "code",
   "execution_count": null,
   "id": "958b1cd4",
   "metadata": {},
   "outputs": [],
   "source": []
  }
 ],
 "metadata": {
  "kernelspec": {
   "display_name": "Python 3",
   "language": "python",
   "name": "python3"
  },
  "language_info": {
   "codemirror_mode": {
    "name": "ipython",
    "version": 3
   },
   "file_extension": ".py",
   "mimetype": "text/x-python",
   "name": "python",
   "nbconvert_exporter": "python",
   "pygments_lexer": "ipython3",
   "version": "3.8.8"
  }
 },
 "nbformat": 4,
 "nbformat_minor": 5
}
