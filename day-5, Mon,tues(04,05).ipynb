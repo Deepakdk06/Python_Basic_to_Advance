{
 "cells": [
  {
   "cell_type": "code",
   "execution_count": 1,
   "id": "451953f0",
   "metadata": {},
   "outputs": [
    {
     "name": "stdout",
     "output_type": "stream",
     "text": [
      "india\n"
     ]
    }
   ],
   "source": [
    "x=100\n",
    "y=15\n",
    "z=20\n",
    "if (x>y and x>z):\n",
    "    print(\"india\")"
   ]
  },
  {
   "cell_type": "code",
   "execution_count": 4,
   "id": "f3b12758",
   "metadata": {},
   "outputs": [
    {
     "name": "stdout",
     "output_type": "stream",
     "text": [
      "10\n"
     ]
    }
   ],
   "source": [
    "x=10\n",
    "y=6\n",
    "z=4\n",
    "if(x>y and x>z):\n",
    "    print(x)"
   ]
  },
  {
   "cell_type": "code",
   "execution_count": 7,
   "id": "24ad5096",
   "metadata": {},
   "outputs": [
    {
     "name": "stdout",
     "output_type": "stream",
     "text": [
      "140704796715088\n",
      "140704796715408\n",
      "140704796715088\n"
     ]
    }
   ],
   "source": [
    "x=[10,20,10,150,14,18,30,35]\n",
    "print(id(x[0]))\n",
    "print(id(x[1]))\n",
    "print(id(x[2]))"
   ]
  },
  {
   "cell_type": "code",
   "execution_count": 1,
   "id": "6f9a1638",
   "metadata": {},
   "outputs": [
    {
     "name": "stdout",
     "output_type": "stream",
     "text": [
      "5\n",
      "10\n",
      "15\n",
      "20\n",
      "25\n",
      "30\n",
      "35\n",
      "40\n",
      "45\n",
      "50\n"
     ]
    }
   ],
   "source": [
    "for i in range(1,11):\n",
    "    print(5*i)"
   ]
  },
  {
   "cell_type": "code",
   "execution_count": 9,
   "id": "18eb50ec",
   "metadata": {},
   "outputs": [
    {
     "name": "stdout",
     "output_type": "stream",
     "text": [
      "9* 1 = 9\n",
      "9* 2 = 18\n",
      "9* 3 = 27\n",
      "9* 4 = 36\n",
      "9* 5 = 45\n",
      "9* 6 = 54\n",
      "9* 7 = 63\n",
      "9* 8 = 72\n",
      "9* 9 = 81\n",
      "9* 10 = 90\n"
     ]
    }
   ],
   "source": [
    "for i in range(1,11):\n",
    "    print(\"9*\",i,\"=\",9*i)"
   ]
  },
  {
   "cell_type": "code",
   "execution_count": 24,
   "id": "d33d4020",
   "metadata": {},
   "outputs": [
    {
     "name": "stdout",
     "output_type": "stream",
     "text": [
      "it is even no: 10\n",
      "it is even no: 2\n",
      "it is even no: 0\n",
      "it is even no: 8\n",
      "it is even no: 12\n",
      "it is even no: 30\n"
     ]
    }
   ],
   "source": [
    "x=[10,15,2,1,0,8,12,15,45,7,15,30]\n",
    "for i in x:\n",
    "    if(i%2==0):\n",
    "        print(\"it is even no:\",i)\n"
   ]
  },
  {
   "cell_type": "code",
   "execution_count": 31,
   "id": "de6e7e91",
   "metadata": {},
   "outputs": [
    {
     "name": "stdout",
     "output_type": "stream",
     "text": [
      "30\n"
     ]
    }
   ],
   "source": [
    "sum=0\n",
    "x=[10,15,2,1,0,8,12,15,45,7,15,30]\n",
    "for i in x:\n",
    "    if(i%2==0):\n",
    "         sum=sum+i\n",
    "print(i)"
   ]
  },
  {
   "cell_type": "code",
   "execution_count": 34,
   "id": "218c6f5f",
   "metadata": {},
   "outputs": [
    {
     "name": "stdout",
     "output_type": "stream",
     "text": [
      "it is not prime number\n",
      "it is prime numner\n"
     ]
    }
   ],
   "source": []
  },
  {
   "cell_type": "code",
   "execution_count": 37,
   "id": "2ebcd24e",
   "metadata": {},
   "outputs": [
    {
     "name": "stdout",
     "output_type": "stream",
     "text": [
      "prime number\n"
     ]
    }
   ],
   "source": []
  },
  {
   "cell_type": "code",
   "execution_count": 11,
   "id": "5addfb4d",
   "metadata": {},
   "outputs": [
    {
     "name": "stdout",
     "output_type": "stream",
     "text": [
      "it is odd no: 15\n",
      "it is odd no: 1\n",
      "it is odd no: 15\n",
      "it is odd no: 45\n",
      "it is odd no: 7\n",
      "it is odd no: 15\n"
     ]
    }
   ],
   "source": [
    "x=[10,15,2,1,0,8,12,15,45,7,15,30]\n",
    "for i in x:\n",
    "    if(i%2==1):\n",
    "        print(\"it is odd no:\",i)"
   ]
  },
  {
   "cell_type": "code",
   "execution_count": 45,
   "id": "ceefe58c",
   "metadata": {},
   "outputs": [
    {
     "name": "stdout",
     "output_type": "stream",
     "text": [
      "it is prime number\n"
     ]
    }
   ],
   "source": [
    "n=17\n",
    "k=0\n",
    "for i in range(2,n):\n",
    "    if(n%i==0):\n",
    "        print(\"it is not a prime number\")\n",
    "        k=k+1\n",
    "        break\n",
    "if(k==0):\n",
    "    print(\"it is prime number\")"
   ]
  }
 ],
 "metadata": {
  "kernelspec": {
   "display_name": "Python 3",
   "language": "python",
   "name": "python3"
  },
  "language_info": {
   "codemirror_mode": {
    "name": "ipython",
    "version": 3
   },
   "file_extension": ".py",
   "mimetype": "text/x-python",
   "name": "python",
   "nbconvert_exporter": "python",
   "pygments_lexer": "ipython3",
   "version": "3.8.8"
  }
 },
 "nbformat": 4,
 "nbformat_minor": 5
}
